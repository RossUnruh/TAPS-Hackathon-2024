{
 "cells": [
  {
   "cell_type": "markdown",
   "id": "9679f629-e341-421a-bd00-f182a6e78538",
   "metadata": {},
   "source": [
    "### For processing Sentek drill and drop probe data and develop time series of SMC and temperature (C)\n",
    "\n",
    "#### By : Nishadini Widanagamage\n",
    "#### Date : 10/27/2024"
   ]
  },
  {
   "cell_type": "code",
   "execution_count": 1,
   "id": "9265dcd6-ccac-47e8-8c89-2eeebc7f0f59",
   "metadata": {
    "tags": []
   },
   "outputs": [],
   "source": [
    "# Importing models \n",
    "import pandas as pd\n",
    "import os \n",
    "import matplotlib.pyplot as plt\n",
    "from datetime import datetime"
   ]
  },
  {
   "cell_type": "code",
   "execution_count": 2,
   "id": "a29129e3-0c9f-49ad-9428-4e8e0d0aad06",
   "metadata": {
    "tags": []
   },
   "outputs": [
    {
     "name": "stdout",
     "output_type": "stream",
     "text": [
      "5.07 15.21 30.42\n"
     ]
    }
   ],
   "source": [
    "# Define variables \n",
    "d1 = 15 # Root depth at emerging/ early vegetative stage in cm\n",
    "d2 = 45 #Root depth at vegetative stages in cm\n",
    "d3 = 90 #Root depth at reproductive stages in cm\n",
    "\n",
    "# Approximate lengths of each stage in days (no irrigation will be done after cob maturity to save water)\n",
    "l1 = 10 # Length of emerging/ early vegetative stage\n",
    "l2 = 30 # Length of vegetative stage\n",
    "l3 = 60 # Length of reproductive stage\n",
    "\n",
    "# Soil texture was decided as Silt Loam based on soil texture file\n",
    "fc = 0.338 # VWC at FC\n",
    "pwp = 0.150 # VWC at PWP\n",
    "mad = (fc-pwp)/2 # Maximum allowable depletion, 50% of available water (FC - PWP)\n",
    "#print(mad)\n",
    "\n",
    "# Required soil moisture maintenace level (fc) in cm according to stage\n",
    "d1_cm = fc*d1 # for 15 cm, early stage\n",
    "d2_cm = fc*d2 # 45 cm, vegetative stage\n",
    "d3_cm = fc*d3 # 90 cm, reproductive stage\n",
    "print(d1_cm, d2_cm, d3_cm)"
   ]
  },
  {
   "cell_type": "code",
   "execution_count": 5,
   "id": "f868f05d-dcbd-45a8-a763-cd0a483d2ace",
   "metadata": {
    "tags": []
   },
   "outputs": [
    {
     "name": "stdout",
     "output_type": "stream",
     "text": [
      "All sheets processed and saved successfully!\n"
     ]
    }
   ],
   "source": [
    "# Load all sheets from the Excel file into a dictionary of DataFrames\n",
    "excel_file = r\"C:\\\\Priyanka\\\\hackthone-kansas\\\\Water-squad-dash\\\\dataset\\\\24 KSU TAPS Sentek.xlsx\"\n",
    "sheets = pd.read_excel(excel_file, sheet_name=None, skiprows=[0, 1])  # sheet_name=None loads all sheets\n",
    "\n",
    "# Process each sheet\n",
    "for sheet_name, df in sheets.items():\n",
    "    for col in df.columns:\n",
    "        # Check if the column starts with \"Sensor #\" and if the \"_moisture\" column does not already exist\n",
    "        if col.startswith(\"Sensor #\") and f\"{col}_moisture\" not in df.columns:\n",
    "            # Create a temporary variable for the decimal conversion without modifying the original column\n",
    "            converted_value = df[col] / 100\n",
    "\n",
    "            # Calculate soil moisture content in cm and add it as a new column\n",
    "            df[f\"{col}_moisture\"] = converted_value * 10\n",
    "\n",
    "    # Update the processed DataFrame back to the dictionary\n",
    "    sheets[sheet_name] = df\n",
    "\n",
    "# Save all modified sheets into a single Excel file\n",
    "output_file = r\"C:\\Priyanka\\hackthone-kansas\\Water-squad-dash\\dataset\\Sentek_Moisture_in_cm_All_Sheets.xlsx\"\n",
    "with pd.ExcelWriter(output_file) as writer:\n",
    "    for sheet_name, df in sheets.items():\n",
    "        df.to_excel(writer, sheet_name=sheet_name, index=False)\n",
    "\n",
    "print(\"All sheets processed and saved successfully!\")"
   ]
  },
  {
   "cell_type": "code",
   "execution_count": 6,
   "id": "9faf8c50-9d0a-4469-aac7-fc77c8097a0b",
   "metadata": {
    "tags": []
   },
   "outputs": [
    {
     "name": "stdout",
     "output_type": "stream",
     "text": [
      "Data extracted and saved to extracted_data_all_sheets.xlsx\n"
     ]
    }
   ],
   "source": [
    "# Extracting calculated soil moisture values in cm into new excel file\n",
    "\n",
    "# Read the input excel file\n",
    "df_moisture = r\"C:\\\\Priyanka\\\\hackthone-kansas\\\\Water-squad-dash\\\\dataset\\\\Sentek_Moisture_in_cm_All_Sheets.xlsx\"\n",
    "sheets = pd.read_excel(df_moisture, sheet_name=None)\n",
    "\n",
    "# Specifying columns need to be extracted\n",
    "columns_to_extract = [\"Timestamp\", \"Sensor #1 (5 cm)_moisture\", \"Sensor #2 (15 cm)_moisture\", \"Sensor #3 (25 cm)_moisture\", \"Sensor #4 (35 cm)_moisture\", \"Sensor #5 (45 cm)_moisture\", \n",
    "                      \"Sensor #6 (55 cm)_moisture\", \"Sensor #7 (65 cm)_moisture\", \"Sensor #8 (75 cm)_moisture\", \"Sensor #9 (85 cm)_moisture\"]\n",
    "\n",
    "# Create a new Excel file to save the extracted data\n",
    "output_file = \"extracted_data_all_sheets.xlsx\"\n",
    "\n",
    "# Loop through each sheet and save seperately\n",
    "with pd.ExcelWriter(output_file) as writer:\n",
    "    # Loop through each sheet in the original Excel file\n",
    "    for sheet_name, df in sheets.items():\n",
    "        # Check if all columns to extract are present\n",
    "        if all(col in df.columns for col in columns_to_extract):\n",
    "            # Select specified columns \n",
    "            df_selected = df.loc[:, columns_to_extract].copy()\n",
    "            df_selected.loc[:, 'Sheet'] = sheet_name  \n",
    "            \n",
    "            # Save the selected DataFrame to a new sheet in the output file\n",
    "            df_selected.to_excel(writer, sheet_name=sheet_name, index=False)\n",
    "        else:\n",
    "            print(f\"Columns not found in sheet: {sheet_name}\")\n",
    "\n",
    "print(f\"Data extracted and saved to {output_file}\")"
   ]
  },
  {
   "cell_type": "code",
   "execution_count": 10,
   "id": "9e0f222b-07e2-499c-a4bb-201cabceeb81",
   "metadata": {
    "tags": []
   },
   "outputs": [
    {
     "name": "stdout",
     "output_type": "stream",
     "text": [
      "Data extracted and saved to extracted_6am_weekly_data.xlsx\n"
     ]
    }
   ],
   "source": [
    "# Load all sheets from the Excel file into a dictionary of DataFrames\n",
    "input_file = \"C:\\\\Priyanka\\\\hackthone-kansas\\\\Water-squad-dash\\\\dataset\\\\extracted_data_all_sheets.xlsx\"  \n",
    "sheets = pd.read_excel(input_file, sheet_name=None)\n",
    "\n",
    "# Create a new Excel file to save the extracted data\n",
    "output_file = \"extracted_6am_weekly_data.xlsx\"\n",
    "\n",
    "# Specify the start date for extraction\n",
    "start_date = pd.to_datetime(\"2024-05-28\")\n",
    "\n",
    "# Use ExcelWriter to write to multiple sheets\n",
    "with pd.ExcelWriter(output_file) as writer:\n",
    "    # Loop through each sheet in the original Excel file\n",
    "    for sheet_name, df in sheets.items():\n",
    "        # Ensure the 'Timestamp' column is in datetime format\n",
    "        df['Timestamp'] = pd.to_datetime(df['Timestamp'])\n",
    "        \n",
    "        # Create a mask to filter data at 6 AM\n",
    "        mask_time = (df['Timestamp'].dt.hour == 6) & (df['Timestamp'].dt.minute == 0)  \n",
    "        \n",
    "        # Create a mask for weekly data starting from the specified date\n",
    "        mask_date = (df['Timestamp'] >= start_date) & (df['Timestamp'].dt.dayofweek == 1) \n",
    "        \n",
    "        # Combine both masks\n",
    "        final_mask = mask_time & mask_date\n",
    "        \n",
    "        # Extract the filtered DataFrame\n",
    "        df_filtered = df[final_mask]\n",
    "\n",
    "        # Save the filtered DataFrame to a new sheet in the output file\n",
    "        if not df_filtered.empty:\n",
    "            df_filtered.to_excel(writer, sheet_name=sheet_name, index=False)\n",
    "        else:\n",
    "            print(f\"No data found for 6 AM weekly on Mondays in sheet: {sheet_name}\")\n",
    "\n",
    "print(f\"Data extracted and saved to {output_file}\")"
   ]
  },
  {
   "cell_type": "code",
   "execution_count": 3,
   "id": "655725e1-5386-4c69-bdbf-417e244acb17",
   "metadata": {
    "tags": []
   },
   "outputs": [
    {
     "name": "stdout",
     "output_type": "stream",
     "text": [
      "Irrigation requirements calculated and saved to irrigation_requirements_1.xlsx\n"
     ]
    }
   ],
   "source": [
    "# Calculate required irrigation amount in cm weekly\n",
    "\n",
    "# Load all sheets from the Excel file into a dictionary of DataFrames\n",
    "input_file = r\"C:\\Users\\nishadini\\OneDrive - Kansas State University\\PhD\\workshops\\extracted_6am_weekly_data.xlsx\"\n",
    "sheets = pd.read_excel(input_file, sheet_name=None)\n",
    "\n",
    "# Define planting date and final irrigation date\n",
    "planting_date = pd.to_datetime(\"2024-05-08\") # All the teams with Sentek probes have planted on 5/08 except team 29. Therefore, 5/08 was choosen. \n",
    "final_irrigation_date = pd.to_datetime(\"2024-09-11\")\n",
    "\n",
    "# Define soil moisture thresholds and depths based on crop age\n",
    "age_thresholds = [\n",
    "    {\"max_age\": l1, \"depth\": [\"Sensor #1 (5 cm)_moisture\", \"Sensor #2 (15 cm)_moisture\"], \"target_moisture\": d1_cm},\n",
    "    {\"max_age\": l2, \"depth\": [\"Sensor #1 (5 cm)_moisture\", \"Sensor #2 (15 cm)_moisture\", \"Sensor #3 (25 cm)_moisture\", \n",
    "                              \"Sensor #4 (35 cm)_moisture\", \"Sensor #5 (45 cm)_moisture\"], \"target_moisture\": d2_cm},\n",
    "    {\"max_age\": l3, \"depth\": [\"Sensor #1 (5 cm)_moisture\", \"Sensor #2 (15 cm)_moisture\", \"Sensor #3 (25 cm)_moisture\", \n",
    "                              \"Sensor #4 (35 cm)_moisture\", \"Sensor #5 (45 cm)_moisture\", \"Sensor #6 (55 cm)_moisture\", \n",
    "                              \"Sensor #7 (65 cm)_moisture\", \"Sensor #8 (75 cm)_moisture\", \"Sensor #9 (85 cm)_moisture\"], \n",
    "     \"target_moisture\": d3_cm},]\n",
    "\n",
    "# Create an output dictionary to store the irrigation requirements per sheet\n",
    "irrigation_requirements = {}\n",
    "\n",
    "# Iterate through each sheet to process the data\n",
    "for sheet_name, df in sheets.items():\n",
    "    # Makesure the 'Timestamp' column is in datetime format\n",
    "    df['Timestamp'] = pd.to_datetime(df['Timestamp'])\n",
    "    \n",
    "    # Filter data up to the final irrigation date\n",
    "    df = df[df['Timestamp'] <= final_irrigation_date]\n",
    "    \n",
    "    # Initialize a list to store results for the current sheet\n",
    "    results = []\n",
    "    \n",
    "    # Iterate over each date in the data\n",
    "    for i, row in df.iterrows():\n",
    "        date = row['Timestamp']\n",
    "        # Calculate crop age in days\n",
    "        crop_age = (date - planting_date).days  \n",
    "        \n",
    "        # Determine the appropriate depth and target moisture based on crop age\n",
    "        for age_range in age_thresholds:\n",
    "            if crop_age <= age_range[\"max_age\"]:\n",
    "                selected_depths = age_range[\"depth\"]\n",
    "                target_moisture = age_range[\"target_moisture\"]\n",
    "                break\n",
    "        \n",
    "        # Calculate cumulative soil moisture for the selected depths\n",
    "        cumulative_moisture = row[selected_depths].sum()\n",
    "        \n",
    "        # Calculate required irrigation if the cumulative moisture is below the target\n",
    "        irrigation_needed = max(0, target_moisture - cumulative_moisture)\n",
    "        \n",
    "        # Calculate moisture variation (allowing for both positive and negative values)\n",
    "        moisture_variation = target_moisture - cumulative_moisture\n",
    "        \n",
    "        # Store the results\n",
    "        results.append({\n",
    "            \"Date\": date,\n",
    "            \"Crop Age (days)\": crop_age,\n",
    "            \"Cumulative Soil Moisture (cm)\": cumulative_moisture,\n",
    "            \"Target Soil Moisture (cm)\": target_moisture,\n",
    "            \"Irrigation Required (cm)\": irrigation_needed,\n",
    "            \"Moisture Variation (cm)\": moisture_variation})\n",
    "    \n",
    "    # Convert results to a DataFrame and store in the dictionary\n",
    "    irrigation_requirements[sheet_name] = pd.DataFrame(results)\n",
    "\n",
    "# Save the irrigation requirements for each sheet to a new Excel file\n",
    "output_file = \"irrigation_requirements_1.xlsx\"\n",
    "with pd.ExcelWriter(output_file) as writer:\n",
    "    for sheet_name, df in irrigation_requirements.items():\n",
    "        df.to_excel(writer, sheet_name=sheet_name, index=False)\n",
    "\n",
    "print(f\"Irrigation requirements calculated and saved to {output_file}\")"
   ]
  },
  {
   "cell_type": "code",
   "execution_count": null,
   "id": "126ee936-c640-43fd-a977-f43d7113365f",
   "metadata": {},
   "outputs": [],
   "source": []
  }
 ],
 "metadata": {
  "kernelspec": {
   "display_name": "Python 3 (ipykernel)",
   "language": "python",
   "name": "python3"
  },
  "language_info": {
   "codemirror_mode": {
    "name": "ipython",
    "version": 3
   },
   "file_extension": ".py",
   "mimetype": "text/x-python",
   "name": "python",
   "nbconvert_exporter": "python",
   "pygments_lexer": "ipython3",
   "version": "3.8.20"
  }
 },
 "nbformat": 4,
 "nbformat_minor": 5
}
